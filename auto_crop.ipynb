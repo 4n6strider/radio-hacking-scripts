{
 "cells": [
  {
   "cell_type": "markdown",
   "metadata": {},
   "source": [
    "# Auto Crop signal\n",
    "\n",
    "Usually, when recording either radio waves or sound waves, you start recording, the signal comes, and then, as the slow human being that you are (slow relative to computers), you stop recording a while after the signal transmission completed.\n",
    "\n",
    "But usually, you just want the signal and don't care about the surrounding dead air/noise.\n",
    "\n",
    "To this end, let's develop an algorithm to auto-crop the signal of interest. We will do this by:\n",
    "* breaking the signal into 16 chunks\n",
    "* calculating the power in each chunk\n",
    "* finding where the largest increase in power happens\n",
    "* finding where the largest decrease in power happens\n",
    "* saving only the portion between the largest power increase in decrease\n",
    "\n",
    "Since this is mostly meant for use with radio signals, we will experiment with a radio signal in the [PCM](https://en.wikipedia.org/wiki/Pulse-code_modulation) [raw wave format](https://en.wikipedia.org/wiki/Raw_audio_format) - which is essentially the same as a [WAV](https://en.wikipedia.org/wiki/WAV) file without the headers.\n",
    "\n",
    "# Graphing boilerplate code"
   ]
  },
  {
   "cell_type": "code",
   "execution_count": 2,
   "metadata": {
    "collapsed": true
   },
   "outputs": [],
   "source": [
    "%matplotlib inline\n",
    "import matplotlib.pyplot as plt\n",
    "import numpy as np\n",
    "import scipy\n",
    "#import scipy.io.wavfile\n",
    "\n",
    "def setup_graph(title='', x_label='', y_label='', fig_size=None):\n",
    "    fig = plt.figure()\n",
    "    if fig_size != None:\n",
    "        fig.set_size_inches(fig_size[0], fig_size[1])\n",
    "    ax = fig.add_subplot(111)\n",
    "    ax.set_title(title)\n",
    "    ax.set_xlabel(x_label)\n",
    "    ax.set_ylabel(y_label)"
   ]
  },
  {
   "cell_type": "markdown",
   "metadata": {},
   "source": [
    "# Auto crop algorithm"
   ]
  },
  {
   "cell_type": "code",
   "execution_count": 3,
   "metadata": {
    "collapsed": true
   },
   "outputs": [],
   "source": [
    "def auto_crop_signal(signal_data, margin_percent=1, num_chunks=16):\n",
    "    \"\"\" Break the signal into chunks, and find the chunk there is the largest\n",
    "    jump from quiet to loud (start index), and the largest jump from \n",
    "    loud to quiet (stop index). \"\"\"\n",
    "    chunk_size = int(len(signal_data) / num_chunks)\n",
    "    largest_increase_index = 0\n",
    "    largest_increase_size = -999999999\n",
    "    largest_decrease_index = chunk_size * num_chunks\n",
    "    largest_decrease_size = 999999999\n",
    "    last_chunk_sum = sum([abs(i) for i in signal_data[0:chunk_size]])\n",
    "    for chunk_start in range(0, len(signal_data), chunk_size):\n",
    "        chunk = signal_data[chunk_start:chunk_start+chunk_size]\n",
    "        # Don't consider the last chunk if it's not a full chunk,\n",
    "        # since that will likely yield the smallest sum\n",
    "        if len(chunk) < chunk_size:\n",
    "            continue\n",
    "        chunk_sum = sum([abs(i) for i in chunk])\n",
    "        chunk_diff = chunk_sum - last_chunk_sum\n",
    "        last_chunk_sum = chunk_sum\n",
    "        if chunk_diff > largest_increase_size:\n",
    "            largest_increase_size = chunk_diff\n",
    "            largest_increase_index = chunk_start\n",
    "        if chunk_diff < largest_decrease_size:\n",
    "            largest_decrease_size = chunk_diff\n",
    "            largest_decrease_index = chunk_start\n",
    "    margin = int((largest_decrease_index - largest_increase_index) * (margin_percent / 100))\n",
    "    return signal_data[largest_increase_index-margin:largest_decrease_index+margin]\n"
   ]
  },
  {
   "cell_type": "markdown",
   "metadata": {},
   "source": [
    "# Read in PCM file"
   ]
  },
  {
   "cell_type": "code",
   "execution_count": 4,
   "metadata": {
    "collapsed": false
   },
   "outputs": [],
   "source": [
    "in_signal = scipy.fromfile(open('raw_signal_to_crop.pcm'), dtype=scipy.complex64)"
   ]
  },
  {
   "cell_type": "code",
   "execution_count": 5,
   "metadata": {
    "collapsed": false
   },
   "outputs": [
    {
     "name": "stderr",
     "output_type": "stream",
     "text": [
      "/usr/local/lib/python3.5/site-packages/numpy/core/numeric.py:482: ComplexWarning: Casting complex values to real discards the imaginary part\n",
      "  return array(a, dtype, copy=False, order=order)\n"
     ]
    },
    {
     "data": {
      "text/plain": [
       "[<matplotlib.lines.Line2D at 0x1058355f8>]"
      ]
     },
     "execution_count": 5,
     "metadata": {},
     "output_type": "execute_result"
    },
    {
     "data": {
      "image/png": "[encoded data removed]",
      "text/plain": [
       "<matplotlib.figure.Figure at 0x1046e9d68>"
      ]
     },
     "metadata": {},
     "output_type": "display_data"
    }
   ],
   "source": [
    "plt.plot(in_signal)"
   ]
  },
  {
   "cell_type": "code",
   "execution_count": 6,
   "metadata": {
    "collapsed": false
   },
   "outputs": [],
   "source": [
    "cropped_sig = auto_crop_signal(in_signal)"
   ]
  },
  {
   "cell_type": "code",
   "execution_count": 7,
   "metadata": {
    "collapsed": false
   },
   "outputs": [
    {
     "name": "stderr",
     "output_type": "stream",
     "text": [
      "/usr/local/lib/python3.5/site-packages/numpy/core/numeric.py:482: ComplexWarning: Casting complex values to real discards the imaginary part\n",
      "  return array(a, dtype, copy=False, order=order)\n"
     ]
    },
    {
     "data": {
      "text/plain": [
       "[<matplotlib.lines.Line2D at 0x10d515668>]"
      ]
     },
     "execution_count": 7,
     "metadata": {},
     "output_type": "execute_result"
    },
    {
     "data": {
      "image/png": "[encoded data removed]",
      "text/plain": [
       "<matplotlib.figure.Figure at 0x107a55550>"
      ]
     },
     "metadata": {},
     "output_type": "display_data"
    }
   ],
   "source": [
    "plt.plot(cropped_sig)"
   ]
  },
  {
   "cell_type": "markdown",
   "metadata": {},
   "source": [
    "# Write file"
   ]
  },
  {
   "cell_type": "code",
   "execution_count": 8,
   "metadata": {
    "collapsed": true
   },
   "outputs": [],
   "source": [
    "def write_pcm_file(signal_data, file_path):\n",
    "    np.array(signal_data).astype('complex64').tofile(file_path)\n"
   ]
  },
  {
   "cell_type": "code",
   "execution_count": 9,
   "metadata": {
    "collapsed": false
   },
   "outputs": [],
   "source": [
    "write_pcm_file(cropped_sig, 'cropped_sig.pcm')"
   ]
  },
  {
   "cell_type": "markdown",
   "metadata": {},
   "source": [
    "# Verify write worked by reading back in"
   ]
  },
  {
   "cell_type": "code",
   "execution_count": 10,
   "metadata": {
    "collapsed": true
   },
   "outputs": [],
   "source": [
    "read_cropped = scipy.fromfile(open('cropped_sig.pcm'), dtype=scipy.complex64)"
   ]
  },
  {
   "cell_type": "code",
   "execution_count": 11,
   "metadata": {
    "collapsed": false
   },
   "outputs": [
    {
     "name": "stderr",
     "output_type": "stream",
     "text": [
      "/usr/local/lib/python3.5/site-packages/numpy/core/numeric.py:482: ComplexWarning: Casting complex values to real discards the imaginary part\n",
      "  return array(a, dtype, copy=False, order=order)\n"
     ]
    },
    {
     "data": {
      "text/plain": [
       "[<matplotlib.lines.Line2D at 0x1043e8908>]"
      ]
     },
     "execution_count": 11,
     "metadata": {},
     "output_type": "execute_result"
    },
    {
     "data": {
      "image/png": "[encoded data removed]",
      "text/plain": [
       "<matplotlib.figure.Figure at 0x10a2b03c8>"
      ]
     },
     "metadata": {},
     "output_type": "display_data"
    }
   ],
   "source": [
    "plt.plot(read_cropped)"
   ]
  },
  {
   "cell_type": "code",
   "execution_count": 14,
   "metadata": {
    "collapsed": false
   },
   "outputs": [
    {
     "data": {
      "text/plain": [
       "(0.0078125+0.0234375j)"
      ]
     },
     "execution_count": 14,
     "metadata": {},
     "output_type": "execute_result"
    }
   ],
   "source": [
    "read_cropped[2]"
   ]
  },
  {
   "cell_type": "code",
   "execution_count": null,
   "metadata": {
    "collapsed": true
   },
   "outputs": [],
   "source": []
  }
 ],
 "metadata": {
  "kernelspec": {
   "display_name": "Python 3",
   "language": "python",
   "name": "python3"
  },
  "language_info": {
   "codemirror_mode": {
    "name": "ipython",
    "version": 3
   },
   "file_extension": ".py",
   "mimetype": "text/x-python",
   "name": "python",
   "nbconvert_exporter": "python",
   "pygments_lexer": "ipython3",
   "version": "3.5.1"
  }
 },
 "nbformat": 4,
 "nbformat_minor": 0
}
